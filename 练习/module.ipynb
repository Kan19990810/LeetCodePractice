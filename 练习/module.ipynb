{
 "cells": [
  {
   "cell_type": "code",
   "execution_count": 1,
   "metadata": {
    "collapsed": true
   },
   "outputs": [
    {
     "name": "stdout",
     "output_type": "stream",
     "text": [
      "命令行参数如下:\n",
      "D:\\Computer\\Anaconda\\lib\\site-packages\\ipykernel_launcher.py\n",
      "-f\n",
      "C:\\Users\\83430\\AppData\\Roaming\\jupyter\\runtime\\kernel-cc640f89-cb45-43b3-92cb-0b55e6391eef.json\n",
      "\n",
      "\n",
      " Python 路径为：  ['D:\\\\File\\\\PythonPractice\\\\练习', 'D:\\\\File\\\\PythonPractice', 'D:\\\\Computer\\\\Anaconda\\\\python39.zip', 'D:\\\\Computer\\\\Anaconda\\\\DLLs', 'D:\\\\Computer\\\\Anaconda\\\\lib', 'D:\\\\Computer\\\\Anaconda', '', 'D:\\\\Computer\\\\Anaconda\\\\lib\\\\site-packages', 'D:\\\\Computer\\\\Anaconda\\\\lib\\\\site-packages\\\\win32', 'D:\\\\Computer\\\\Anaconda\\\\lib\\\\site-packages\\\\win32\\\\lib', 'D:\\\\Computer\\\\Anaconda\\\\lib\\\\site-packages\\\\Pythonwin', 'D:\\\\Computer\\\\Anaconda\\\\lib\\\\site-packages\\\\IPython\\\\extensions', 'C:\\\\Users\\\\83430\\\\.ipython'] \n",
      "\n"
     ]
    }
   ],
   "source": [
    "import sys\n",
    "print('命令行参数如下:')\n",
    "for i in sys.argv:\n",
    "    print(i)\n",
    "print('\\n\\n Python 路径为： ', sys.path, '\\n')"
   ]
  },
  {
   "cell_type": "code",
   "execution_count": 2,
   "outputs": [],
   "source": [
    "def print_func( par ):\n",
    "    print(\"Hello : \", par)\n",
    "    return"
   ],
   "metadata": {
    "collapsed": false
   }
  },
  {
   "cell_type": "code",
   "execution_count": 3,
   "outputs": [
    {
     "ename": "ModuleNotFoundError",
     "evalue": "No module named 'support'",
     "output_type": "error",
     "traceback": [
      "\u001B[1;31m---------------------------------------------------------------------------\u001B[0m",
      "\u001B[1;31mModuleNotFoundError\u001B[0m                       Traceback (most recent call last)",
      "\u001B[1;32m~\\AppData\\Local\\Temp\\ipykernel_17268\\2139519363.py\u001B[0m in \u001B[0;36m<module>\u001B[1;34m\u001B[0m\n\u001B[1;32m----> 1\u001B[1;33m \u001B[1;32mimport\u001B[0m \u001B[0msupport\u001B[0m\u001B[1;33m\u001B[0m\u001B[1;33m\u001B[0m\u001B[0m\n\u001B[0m\u001B[0;32m      2\u001B[0m \u001B[1;33m\u001B[0m\u001B[0m\n\u001B[0;32m      3\u001B[0m \u001B[0msupport\u001B[0m\u001B[1;33m.\u001B[0m\u001B[0mprint_func\u001B[0m\u001B[1;33m(\u001B[0m\u001B[1;34m\"Runoob\"\u001B[0m\u001B[1;33m)\u001B[0m\u001B[1;33m\u001B[0m\u001B[1;33m\u001B[0m\u001B[0m\n",
      "\u001B[1;31mModuleNotFoundError\u001B[0m: No module named 'support'"
     ]
    }
   ],
   "source": [
    "import support\n",
    "\n",
    "support.print_func(\"Runoob\")"
   ],
   "metadata": {
    "collapsed": false
   }
  },
  {
   "cell_type": "code",
   "execution_count": 4,
   "outputs": [
    {
     "data": {
      "text/plain": "['D:\\\\Computer\\\\JetBrains\\\\Toolbox\\\\apps\\\\PyCharm-P\\\\ch-0\\\\223.8617.48\\\\plugins\\\\python\\\\helpers-pro\\\\jupyter_debug',\n 'D:\\\\Computer\\\\JetBrains\\\\Toolbox\\\\apps\\\\PyCharm-P\\\\ch-0\\\\223.8617.48\\\\plugins\\\\python\\\\helpers\\\\pydev',\n 'D:\\\\File\\\\PythonPractice\\\\练习',\n 'D:\\\\File\\\\PythonPractice',\n 'D:\\\\Computer\\\\Anaconda\\\\python39.zip',\n 'D:\\\\Computer\\\\Anaconda\\\\DLLs',\n 'D:\\\\Computer\\\\Anaconda\\\\lib',\n 'D:\\\\Computer\\\\Anaconda',\n '',\n 'D:\\\\Computer\\\\Anaconda\\\\lib\\\\site-packages',\n 'D:\\\\Computer\\\\Anaconda\\\\lib\\\\site-packages\\\\win32',\n 'D:\\\\Computer\\\\Anaconda\\\\lib\\\\site-packages\\\\win32\\\\lib',\n 'D:\\\\Computer\\\\Anaconda\\\\lib\\\\site-packages\\\\Pythonwin',\n 'D:\\\\Computer\\\\Anaconda\\\\lib\\\\site-packages\\\\IPython\\\\extensions',\n 'C:\\\\Users\\\\83430\\\\.ipython']"
     },
     "execution_count": 4,
     "metadata": {},
     "output_type": "execute_result"
    }
   ],
   "source": [
    "import sys\n",
    "sys.path"
   ],
   "metadata": {
    "collapsed": false
   }
  },
  {
   "cell_type": "code",
   "execution_count": 5,
   "outputs": [
    {
     "name": "stdout",
     "output_type": "stream",
     "text": [
      "1 1 2 3 5 8 13 21 34 55 89 144 233 377 610 987 \n"
     ]
    }
   ],
   "source": [
    "import fibo\n",
    "fibo.fib(1000)"
   ],
   "metadata": {
    "collapsed": false
   }
  },
  {
   "cell_type": "code",
   "execution_count": 6,
   "outputs": [
    {
     "data": {
      "text/plain": "[1, 1, 2, 3, 5, 8, 13, 21, 34, 55, 89]"
     },
     "execution_count": 6,
     "metadata": {},
     "output_type": "execute_result"
    }
   ],
   "source": [
    "fibo.fib2(100)"
   ],
   "metadata": {
    "collapsed": false
   }
  },
  {
   "cell_type": "code",
   "execution_count": 7,
   "outputs": [
    {
     "data": {
      "text/plain": "'fibo'"
     },
     "execution_count": 7,
     "metadata": {},
     "output_type": "execute_result"
    }
   ],
   "source": [
    "fibo.__name__"
   ],
   "metadata": {
    "collapsed": false
   }
  },
  {
   "cell_type": "code",
   "execution_count": 8,
   "outputs": [
    {
     "name": "stdout",
     "output_type": "stream",
     "text": [
      "1 1 2 3 5 8 13 21 34 55 89 144 233 377 \n"
     ]
    }
   ],
   "source": [
    "fib = fibo.fib\n",
    "fib(500)"
   ],
   "metadata": {
    "collapsed": false
   }
  },
  {
   "cell_type": "code",
   "execution_count": 9,
   "outputs": [
    {
     "name": "stdout",
     "output_type": "stream",
     "text": [
      "程序自身在运行\n"
     ]
    }
   ],
   "source": [
    "if __name__ == '__main__':\n",
    "    print('程序自身在运行')\n",
    "else:\n",
    "    print('我来自另一模块')"
   ],
   "metadata": {
    "collapsed": false
   }
  },
  {
   "cell_type": "code",
   "execution_count": 10,
   "outputs": [
    {
     "name": "stdout",
     "output_type": "stream",
     "text": [
      "程序自身在运行\n"
     ]
    }
   ],
   "source": [
    "if __name__ == '__main__':\n",
    "    print('程序自身在运行')\n",
    "else:\n",
    "    print('我来自另一模块')"
   ],
   "metadata": {
    "collapsed": false
   }
  },
  {
   "cell_type": "code",
   "execution_count": 11,
   "outputs": [
    {
     "data": {
      "text/plain": "<module 'fibo' from 'D:\\\\File\\\\PythonPractice\\\\练习\\\\fibo.py'>"
     },
     "execution_count": 11,
     "metadata": {},
     "output_type": "execute_result"
    }
   ],
   "source": [
    "fibo\n"
   ],
   "metadata": {
    "collapsed": false
   }
  },
  {
   "cell_type": "code",
   "execution_count": 12,
   "outputs": [
    {
     "ename": "TypeError",
     "evalue": "'module' object is not callable",
     "output_type": "error",
     "traceback": [
      "\u001B[1;31m---------------------------------------------------------------------------\u001B[0m",
      "\u001B[1;31mTypeError\u001B[0m                                 Traceback (most recent call last)",
      "\u001B[1;32m~\\AppData\\Local\\Temp\\ipykernel_17268\\529336962.py\u001B[0m in \u001B[0;36m<module>\u001B[1;34m\u001B[0m\n\u001B[1;32m----> 1\u001B[1;33m \u001B[0mfibo\u001B[0m\u001B[1;33m(\u001B[0m\u001B[1;33m)\u001B[0m\u001B[1;33m\u001B[0m\u001B[1;33m\u001B[0m\u001B[0m\n\u001B[0m",
      "\u001B[1;31mTypeError\u001B[0m: 'module' object is not callable"
     ]
    }
   ],
   "source": [
    "fibo()"
   ],
   "metadata": {
    "collapsed": false
   }
  },
  {
   "cell_type": "code",
   "execution_count": 14,
   "outputs": [],
   "source": [],
   "metadata": {
    "collapsed": false
   }
  },
  {
   "cell_type": "code",
   "execution_count": 16,
   "outputs": [
    {
     "data": {
      "text/plain": "['__builtins__',\n '__cached__',\n '__doc__',\n '__file__',\n '__loader__',\n '__name__',\n '__package__',\n '__spec__',\n 'fib',\n 'fib2']"
     },
     "execution_count": 16,
     "metadata": {},
     "output_type": "execute_result"
    }
   ],
   "source": [
    "import fibo, sys\n",
    "dir(fibo)"
   ],
   "metadata": {
    "collapsed": false
   }
  },
  {
   "cell_type": "code",
   "execution_count": 17,
   "outputs": [
    {
     "data": {
      "text/plain": "['__breakpointhook__',\n '__displayhook__',\n '__doc__',\n '__excepthook__',\n '__interactivehook__',\n '__loader__',\n '__name__',\n '__package__',\n '__spec__',\n '__stderr__',\n '__stdin__',\n '__stdout__',\n '__unraisablehook__',\n '_base_executable',\n '_clear_type_cache',\n '_current_frames',\n '_debugmallocstats',\n '_enablelegacywindowsfsencoding',\n '_framework',\n '_getframe',\n '_git',\n '_home',\n '_xoptions',\n 'addaudithook',\n 'api_version',\n 'argv',\n 'audit',\n 'base_exec_prefix',\n 'base_prefix',\n 'breakpointhook',\n 'builtin_module_names',\n 'byteorder',\n 'call_tracing',\n 'copyright',\n 'displayhook',\n 'dllhandle',\n 'dont_write_bytecode',\n 'exc_info',\n 'excepthook',\n 'exec_prefix',\n 'executable',\n 'exit',\n 'flags',\n 'float_info',\n 'float_repr_style',\n 'get_asyncgen_hooks',\n 'get_coroutine_origin_tracking_depth',\n 'getallocatedblocks',\n 'getdefaultencoding',\n 'getfilesystemencodeerrors',\n 'getfilesystemencoding',\n 'getprofile',\n 'getrecursionlimit',\n 'getrefcount',\n 'getsizeof',\n 'getswitchinterval',\n 'gettrace',\n 'getwindowsversion',\n 'hash_info',\n 'hexversion',\n 'implementation',\n 'int_info',\n 'intern',\n 'is_finalizing',\n 'last_traceback',\n 'last_type',\n 'last_value',\n 'maxsize',\n 'maxunicode',\n 'meta_path',\n 'modules',\n 'path',\n 'path_hooks',\n 'path_importer_cache',\n 'platform',\n 'platlibdir',\n 'prefix',\n 'ps1',\n 'ps2',\n 'ps3',\n 'pycache_prefix',\n 'set_asyncgen_hooks',\n 'set_coroutine_origin_tracking_depth',\n 'setprofile',\n 'setrecursionlimit',\n 'setswitchinterval',\n 'settrace',\n 'stderr',\n 'stdin',\n 'stdout',\n 'thread_info',\n 'unraisablehook',\n 'version',\n 'version_info',\n 'warnoptions',\n 'winver']"
     },
     "execution_count": 17,
     "metadata": {},
     "output_type": "execute_result"
    }
   ],
   "source": [
    "dir(sys)"
   ],
   "metadata": {
    "collapsed": false
   }
  },
  {
   "cell_type": "code",
   "execution_count": 18,
   "outputs": [
    {
     "data": {
      "text/plain": "'In : '"
     },
     "execution_count": 18,
     "metadata": {},
     "output_type": "execute_result"
    }
   ],
   "source": [
    "sys.ps1"
   ],
   "metadata": {
    "collapsed": false
   }
  },
  {
   "cell_type": "code",
   "execution_count": 19,
   "outputs": [
    {
     "data": {
      "text/plain": "'...: '"
     },
     "execution_count": 19,
     "metadata": {},
     "output_type": "execute_result"
    }
   ],
   "source": [
    "sys.ps2"
   ],
   "metadata": {
    "collapsed": false
   }
  },
  {
   "cell_type": "code",
   "execution_count": 20,
   "outputs": [],
   "source": [
    "sys.ps2 = 'C> '"
   ],
   "metadata": {
    "collapsed": false
   }
  },
  {
   "cell_type": "code",
   "execution_count": 21,
   "outputs": [
    {
     "ename": "NameError",
     "evalue": "name 'C' is not defined",
     "output_type": "error",
     "traceback": [
      "\u001B[1;31m---------------------------------------------------------------------------\u001B[0m",
      "\u001B[1;31mNameError\u001B[0m                                 Traceback (most recent call last)",
      "\u001B[1;32m~\\AppData\\Local\\Temp\\ipykernel_17268\\2691148842.py\u001B[0m in \u001B[0;36m<module>\u001B[1;34m\u001B[0m\n\u001B[1;32m----> 1\u001B[1;33m \u001B[0mC\u001B[0m\u001B[1;33m>\u001B[0m \u001B[0mprint\u001B[0m\u001B[1;33m(\u001B[0m\u001B[1;34m'Runoob'\u001B[0m\u001B[1;33m)\u001B[0m\u001B[1;33m\u001B[0m\u001B[1;33m\u001B[0m\u001B[0m\n\u001B[0m",
      "\u001B[1;31mNameError\u001B[0m: name 'C' is not defined"
     ]
    }
   ],
   "source": [
    "C> print('Runoob')"
   ],
   "metadata": {
    "collapsed": false
   }
  },
  {
   "cell_type": "code",
   "execution_count": 22,
   "outputs": [
    {
     "data": {
      "text/plain": "'Hello, Runoob'"
     },
     "execution_count": 22,
     "metadata": {},
     "output_type": "execute_result"
    }
   ],
   "source": [
    "s = 'Hello, Runoob'\n",
    "str(s)"
   ],
   "metadata": {
    "collapsed": false
   }
  },
  {
   "cell_type": "code",
   "execution_count": 23,
   "outputs": [
    {
     "data": {
      "text/plain": "'0.14285714285714285'"
     },
     "execution_count": 23,
     "metadata": {},
     "output_type": "execute_result"
    }
   ],
   "source": [
    "repr(1/7)"
   ],
   "metadata": {
    "collapsed": false
   }
  },
  {
   "cell_type": "code",
   "execution_count": 24,
   "outputs": [
    {
     "name": "stdout",
     "output_type": "stream",
     "text": [
      "x 的值为： 32.5, y 的值为：40000...\n"
     ]
    }
   ],
   "source": [
    "x = 10 * 3.25\n",
    "y = 200 * 200\n",
    "s = 'x 的值为： ' + repr(x) + ', y 的值为：' + repr(y) + '...'\n",
    "print(s)"
   ],
   "metadata": {
    "collapsed": false
   }
  },
  {
   "cell_type": "code",
   "execution_count": 25,
   "outputs": [
    {
     "data": {
      "text/plain": "\"(32.5, 40000, ('Google', 'Runoob'))\""
     },
     "execution_count": 25,
     "metadata": {},
     "output_type": "execute_result"
    }
   ],
   "source": [
    "repr((x, y, ('Google', 'Runoob')))"
   ],
   "metadata": {
    "collapsed": false
   }
  },
  {
   "cell_type": "code",
   "execution_count": 26,
   "outputs": [
    {
     "name": "stdout",
     "output_type": "stream",
     "text": [
      " 1   1    1\n",
      " 2   4    8\n",
      " 3   9   27\n",
      " 4  16   64\n",
      " 5  25  125\n",
      " 6  36  216\n",
      " 7  49  343\n",
      " 8  64  512\n",
      " 9  81  729\n",
      "10 100 1000\n"
     ]
    }
   ],
   "source": [
    "for x in range(1, 11):\n",
    "    print(repr(x).rjust(2), repr(x * x).rjust(3), end=' ')\n",
    "    print(repr(x * x * x).rjust(4))"
   ],
   "metadata": {
    "collapsed": false
   }
  },
  {
   "cell_type": "code",
   "execution_count": 27,
   "outputs": [
    {
     "name": "stdout",
     "output_type": "stream",
     "text": [
      " 1   1    1\n",
      " 2   4    8\n",
      " 3   9   27\n",
      " 4  16   64\n",
      " 5  25  125\n",
      " 6  36  216\n",
      " 7  49  343\n",
      " 8  64  512\n",
      " 9  81  729\n",
      "10 100 1000\n"
     ]
    }
   ],
   "source": [
    "for x in range(1, 11):\n",
    "    print('{0:2d} {1:3d} {2:4d}'.format(x, x * x, x * x * x))"
   ],
   "metadata": {
    "collapsed": false
   }
  },
  {
   "cell_type": "code",
   "execution_count": 28,
   "outputs": [
    {
     "data": {
      "text/plain": "'00012'"
     },
     "execution_count": 28,
     "metadata": {},
     "output_type": "execute_result"
    }
   ],
   "source": [
    "'12'.zfill(5)"
   ],
   "metadata": {
    "collapsed": false
   }
  },
  {
   "cell_type": "code",
   "execution_count": 29,
   "outputs": [
    {
     "name": "stdout",
     "output_type": "stream",
     "text": [
      "菜鸟教程网址： \"www.runoob.com!\"\n"
     ]
    }
   ],
   "source": [
    "print('{}网址： \"{}!\"'.format('菜鸟教程', 'www.runoob.com'))"
   ],
   "metadata": {
    "collapsed": false
   }
  },
  {
   "cell_type": "code",
   "execution_count": 30,
   "outputs": [
    {
     "name": "stdout",
     "output_type": "stream",
     "text": [
      "Google and Runoob\n"
     ]
    }
   ],
   "source": [
    "print('{0} and {1}'.format('Google', 'Runoob'))"
   ],
   "metadata": {
    "collapsed": false
   }
  },
  {
   "cell_type": "code",
   "execution_count": 31,
   "outputs": [
    {
     "name": "stdout",
     "output_type": "stream",
     "text": [
      "菜鸟教程网址： www.runoob.com\n"
     ]
    }
   ],
   "source": [
    "print('{name}网址： {site}'.format(name='菜鸟教程', site='www.runoob.com'))"
   ],
   "metadata": {
    "collapsed": false
   }
  },
  {
   "cell_type": "code",
   "execution_count": 32,
   "outputs": [
    {
     "name": "stdout",
     "output_type": "stream",
     "text": [
      "站点列表 Google, Runoob, 和 Taobao。\n"
     ]
    }
   ],
   "source": [
    "print('站点列表 {0}, {1}, 和 {other}。'.format('Google', 'Runoob', other='Taobao'))"
   ],
   "metadata": {
    "collapsed": false
   }
  },
  {
   "cell_type": "code",
   "execution_count": 33,
   "outputs": [
    {
     "name": "stdout",
     "output_type": "stream",
     "text": [
      "你输入的内容是:  你好\n"
     ]
    }
   ],
   "source": [
    "str = input(\"请输入：\");\n",
    "print (\"你输入的内容是: \", str)"
   ],
   "metadata": {
    "collapsed": false
   }
  },
  {
   "cell_type": "code",
   "execution_count": 36,
   "outputs": [],
   "source": [
    "f = open(\"foo.txt\", \"w\")\n",
    "\n",
    "f.write( \"Python 是一个非常好的语言。\\n是的，的确非常好!!\\n\" )\n",
    "\n",
    "f.close()"
   ],
   "metadata": {
    "collapsed": false
   }
  },
  {
   "cell_type": "code",
   "execution_count": null,
   "outputs": [],
   "source": [],
   "metadata": {
    "collapsed": false
   }
  }
 ],
 "metadata": {
  "kernelspec": {
   "display_name": "Python 3",
   "language": "python",
   "name": "python3"
  },
  "language_info": {
   "codemirror_mode": {
    "name": "ipython",
    "version": 2
   },
   "file_extension": ".py",
   "mimetype": "text/x-python",
   "name": "python",
   "nbconvert_exporter": "python",
   "pygments_lexer": "ipython2",
   "version": "2.7.6"
  }
 },
 "nbformat": 4,
 "nbformat_minor": 0
}
