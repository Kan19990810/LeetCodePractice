{
 "cells": [
  {
   "cell_type": "code",
   "execution_count": 1,
   "metadata": {
    "collapsed": true
   },
   "outputs": [
    {
     "name": "stdout",
     "output_type": "stream",
     "text": [
      "Required argument:  1\n",
      "<class 'tuple'>\n",
      "Optional argument:  2\n",
      "Optional argument:  3\n",
      "Optional argument:  4\n"
     ]
    }
   ],
   "source": [
    "def test_args(first, *args):\n",
    "    print('Required argument: ', first)\n",
    "    print(type(args))\n",
    "    for v in args:\n",
    "        print ('Optional argument: ', v)\n",
    "\n",
    "test_args(1, 2, 3, 4)"
   ]
  },
  {
   "cell_type": "code",
   "execution_count": 2,
   "outputs": [
    {
     "name": "stdout",
     "output_type": "stream",
     "text": [
      "Required argument:  1\n",
      "<class 'dict'>\n",
      "Optional argument (args):  2\n",
      "Optional argument (args):  3\n",
      "Optional argument (args):  4\n",
      "Optional argument k1 (kwargs): 5 \n",
      "Optional argument k2 (kwargs): 6 \n"
     ]
    }
   ],
   "source": [
    "def test_kwargs(first, *args, **kwargs):\n",
    "    print('Required argument: ', first)\n",
    "    print(type(kwargs))\n",
    "    for v in args:\n",
    "        print('Optional argument (args): ', v)\n",
    "    for k, v in kwargs.items():\n",
    "        print('Optional argument %s (kwargs): %s ' % (k, v))\n",
    "\n",
    "test_kwargs(1, 2, 3, 4, k1 =5, k2 =6)"
   ],
   "metadata": {
    "collapsed": false
   }
  },
  {
   "cell_type": "code",
   "execution_count": 5,
   "outputs": [
    {
     "name": "stdout",
     "output_type": "stream",
     "text": [
      "arg1:  two\n",
      "arg2:  3\n",
      "arg3:  5\n"
     ]
    }
   ],
   "source": [
    "def test_args_kwargs(arg1, arg2, arg3):\n",
    "    print('arg1: ', arg1)\n",
    "    print('arg2: ', arg2)\n",
    "    print('arg3: ', arg3)\n",
    "\n",
    "args = ('two', 3, 5)\n",
    "test_args_kwargs(*args)"
   ],
   "metadata": {
    "collapsed": false
   }
  },
  {
   "cell_type": "code",
   "execution_count": 6,
   "outputs": [
    {
     "name": "stdout",
     "output_type": "stream",
     "text": [
      "arg1:  5\n",
      "arg2:  two\n",
      "arg3:  3\n"
     ]
    }
   ],
   "source": [
    "kwargs = {'arg3' : 3, 'arg2' : 'two', 'arg1': 5}\n",
    "test_args_kwargs(**kwargs)"
   ],
   "metadata": {
    "collapsed": false
   }
  },
  {
   "cell_type": "code",
   "execution_count": 7,
   "outputs": [
    {
     "name": "stdout",
     "output_type": "stream",
     "text": [
      "<class 'str'>\n"
     ]
    }
   ],
   "source": [
    "print(type('y'))"
   ],
   "metadata": {
    "collapsed": false
   }
  },
  {
   "cell_type": "markdown",
   "source": [
    "num = 10\n",
    "width = 0\n",
    "                if num >= 0:\n",
    "                    while num > 9:\n",
    "                        num //= 10\n",
    "                        width += 1"
   ],
   "metadata": {
    "collapsed": false
   }
  },
  {
   "cell_type": "code",
   "execution_count": 6,
   "outputs": [
    {
     "name": "stdout",
     "output_type": "stream",
     "text": [
      "3\n"
     ]
    }
   ],
   "source": [
    "width = 1\n",
    "num = -10\n",
    "if num >= 0:\n",
    "    while num > 9:\n",
    "        num //= 10\n",
    "        width += 1\n",
    "else:\n",
    "    num *= -1\n",
    "    width += 1\n",
    "    while num > 9:\n",
    "        num //= 10\n",
    "        width += 1\n",
    "print(width)"
   ],
   "metadata": {
    "collapsed": false
   }
  },
  {
   "cell_type": "code",
   "execution_count": null,
   "outputs": [],
   "source": [],
   "metadata": {
    "collapsed": false
   }
  }
 ],
 "metadata": {
  "kernelspec": {
   "display_name": "Python 3",
   "language": "python",
   "name": "python3"
  },
  "language_info": {
   "codemirror_mode": {
    "name": "ipython",
    "version": 2
   },
   "file_extension": ".py",
   "mimetype": "text/x-python",
   "name": "python",
   "nbconvert_exporter": "python",
   "pygments_lexer": "ipython2",
   "version": "2.7.6"
  }
 },
 "nbformat": 4,
 "nbformat_minor": 0
}
