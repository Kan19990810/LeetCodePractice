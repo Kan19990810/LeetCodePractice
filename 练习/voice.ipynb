{
 "cells": [
  {
   "cell_type": "code",
   "execution_count": 2,
   "metadata": {
    "collapsed": true
   },
   "outputs": [
    {
     "name": "stdout",
     "output_type": "stream",
     "text": [
      "tensor([[[1.7544e-18, 8.7721e-19, 1.0527e-18,  ..., 1.1737e-03,\n",
      "          8.4053e-04, 8.8358e-04]]])\n"
     ]
    },
    {
     "name": "stderr",
     "output_type": "stream",
     "text": [
      "C:\\Users\\Kan\\AppData\\Local\\Temp\\ipykernel_3356\\668286731.py:13: DeprecationWarning: `np.float` is a deprecated alias for the builtin `float`. To silence this warning, use `float` by itself. Doing this will not modify any behavior and is safe. If you specifically wanted the numpy scalar type, use `np.float64` here.\n",
      "Deprecated in NumPy 1.20; for more details and guidance: https://numpy.org/devdocs/release/1.20.0-notes.html#deprecations\n",
      "  rir = numpy.expand_dims(rir.astype(numpy.float), 0)\n"
     ]
    },
    {
     "data": {
      "text/plain": "tensor([[[3.5089e-18, 1.7544e-18, 2.1053e-18,  ..., 2.3473e-03,\n          1.6811e-03, 1.7672e-03]]])"
     },
     "execution_count": 2,
     "metadata": {},
     "output_type": "execute_result"
    }
   ],
   "source": [
    "import numpy, soundfile\n",
    "from scipy import signal\n",
    "import torch\n",
    "\n",
    "import torch.nn as nn\n",
    "import torch.nn.functional as F\n",
    "\n",
    "length = 200 * 160 + 240\n",
    "audio, _ = soundfile.read('6.wav')\n",
    "audio = audio[: length]\n",
    "audio = numpy.stack([audio], axis=0)\n",
    "rir, _ = soundfile.read('Room200-00001.wav')\n",
    "rir = numpy.expand_dims(rir.astype(numpy.float), 0)\n",
    "rir = rir / numpy.sqrt(numpy.sum(rir ** 2))\n",
    "audio = signal.convolve(audio, rir, mode='full')[:, :length]\n",
    "audio = torch.FloatTensor(audio[0])\n",
    "inp = audio.unsqueeze(0)\n",
    "inp = inp.unsqueeze(0)\n",
    "print(inp)\n",
    "inp = inp + inp\n",
    "inp\n",
    "\n"
   ]
  },
  {
   "cell_type": "code",
   "execution_count": 11,
   "outputs": [
    {
     "name": "stdout",
     "output_type": "stream",
     "text": [
      "tensor([[0.1572, 0.2671, 0.4133, 0.8402, 0.9865],\n",
      "        [0.4575, 0.4984, 0.4658, 0.6764, 0.0887]])\n",
      "tensor([[0., 0., 0., 0., 0.],\n",
      "        [0., 0., 0., 0., 0.],\n",
      "        [0., 0., 0., 0., 0.]])\n",
      "tensor([[0, 1, 2, 0, 0],\n",
      "        [2, 0, 0, 1, 2]])\n"
     ]
    },
    {
     "data": {
      "text/plain": "tensor([[1., 1., 1., 1., 1.],\n        [0., 1., 0., 1., 0.],\n        [1., 0., 1., 0., 1.]])"
     },
     "execution_count": 11,
     "metadata": {},
     "output_type": "execute_result"
    }
   ],
   "source": [
    "\"\"\"\n",
    "one_hot = torch.zeros(10, 5000, 160)\n",
    "label = torch.ones(10)\n",
    "one_hot.scatter_(1, label.view(-1, 1), 1)\n",
    "\"\"\"\n",
    "x = torch.rand(2, 5)\n",
    "y = torch.zeros(3, 5)\n",
    "print(x)\n",
    "print(y)\n",
    "print(torch.LongTensor([[0, 1, 2, 0, 0], [2, 0, 0, 1, 2]]))\n",
    "y.scatter_(0, torch.LongTensor([[0, 1, 2, 0, 0], [2, 0, 0, 1, 2]]), 1)"
   ],
   "metadata": {
    "collapsed": false
   }
  },
  {
   "cell_type": "code",
   "execution_count": 12,
   "outputs": [
    {
     "name": "stdout",
     "output_type": "stream",
     "text": [
      "tensor([[0.3682, 0.9768, 0.3181, 0.2017, 0.5259],\n",
      "        [0.9417, 0.8504, 0.6105, 0.5483, 0.8460],\n",
      "        [0.6101, 0.2596, 0.3017, 0.8530, 0.3457],\n",
      "        [0.9239, 0.7864, 0.5935, 0.5751, 0.6891],\n",
      "        [0.4261, 0.1124, 0.5789, 0.4499, 0.1408]])\n"
     ]
    },
    {
     "data": {
      "text/plain": "tensor([[1, 4, 0],\n        [0, 1, 4],\n        [3, 0, 4],\n        [0, 1, 4],\n        [2, 3, 0]])"
     },
     "execution_count": 12,
     "metadata": {},
     "output_type": "execute_result"
    }
   ],
   "source": [
    "x = torch.rand(5, 5)\n",
    "_, b = x.topk(3, 1, True, True)\n",
    "print(x)\n",
    "b\n"
   ],
   "metadata": {
    "collapsed": false
   }
  },
  {
   "cell_type": "code",
   "execution_count": 14,
   "outputs": [
    {
     "name": "stderr",
     "output_type": "stream",
     "text": [
      "100%|██████████| 4/4 [00:01<00:00,  3.80it/s]"
     ]
    },
    {
     "name": "stdout",
     "output_type": "stream",
     "text": [
      "abcd\n"
     ]
    },
    {
     "name": "stderr",
     "output_type": "stream",
     "text": [
      "\n"
     ]
    }
   ],
   "source": [
    "from tqdm import tqdm\n",
    "import time\n",
    "\n",
    "text = \"\"\n",
    "for char in tqdm([\"a\", \"b\", \"c\", \"d\"]):\n",
    "    time.sleep(0.25)\n",
    "    text = text + char\n",
    "print(text)"
   ],
   "metadata": {
    "collapsed": false
   }
  },
  {
   "cell_type": "code",
   "execution_count": 58,
   "outputs": [],
   "source": [],
   "metadata": {
    "collapsed": false
   }
  }
 ],
 "metadata": {
  "kernelspec": {
   "display_name": "Python 3",
   "language": "python",
   "name": "python3"
  },
  "language_info": {
   "codemirror_mode": {
    "name": "ipython",
    "version": 2
   },
   "file_extension": ".py",
   "mimetype": "text/x-python",
   "name": "python",
   "nbconvert_exporter": "python",
   "pygments_lexer": "ipython2",
   "version": "2.7.6"
  }
 },
 "nbformat": 4,
 "nbformat_minor": 0
}
