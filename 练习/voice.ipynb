{
 "cells": [
  {
   "cell_type": "code",
   "execution_count": 80,
   "metadata": {
    "collapsed": true
   },
   "outputs": [
    {
     "name": "stdout",
     "output_type": "stream",
     "text": [
      "tensor([[[1.7544e-18, 8.7721e-19, 1.0527e-18,  ..., 1.1737e-03,\n",
      "          8.4053e-04, 8.8358e-04]]])\n"
     ]
    },
    {
     "name": "stderr",
     "output_type": "stream",
     "text": [
      "C:\\Users\\Kan\\AppData\\Local\\Temp\\ipykernel_8956\\668286731.py:13: DeprecationWarning: `np.float` is a deprecated alias for the builtin `float`. To silence this warning, use `float` by itself. Doing this will not modify any behavior and is safe. If you specifically wanted the numpy scalar type, use `np.float64` here.\n",
      "Deprecated in NumPy 1.20; for more details and guidance: https://numpy.org/devdocs/release/1.20.0-notes.html#deprecations\n",
      "  rir = numpy.expand_dims(rir.astype(numpy.float), 0)\n"
     ]
    },
    {
     "data": {
      "text/plain": "tensor([[[3.5089e-18, 1.7544e-18, 2.1053e-18,  ..., 2.3473e-03,\n          1.6811e-03, 1.7672e-03]]])"
     },
     "execution_count": 80,
     "metadata": {},
     "output_type": "execute_result"
    }
   ],
   "source": [
    "import numpy, soundfile\n",
    "from scipy import signal\n",
    "import torch\n",
    "\n",
    "import torch.nn as nn\n",
    "import torch.nn.functional as F\n",
    "\n",
    "length = 200 * 160 + 240\n",
    "audio, _ = soundfile.read('6.wav')\n",
    "audio = audio[: length]\n",
    "audio = numpy.stack([audio], axis=0)\n",
    "rir, _ = soundfile.read('Room200-00001.wav')\n",
    "rir = numpy.expand_dims(rir.astype(numpy.float), 0)\n",
    "rir = rir / numpy.sqrt(numpy.sum(rir ** 2))\n",
    "audio = signal.convolve(audio, rir, mode='full')[:, :length]\n",
    "audio = torch.FloatTensor(audio[0])\n",
    "inp = audio.unsqueeze(0)\n",
    "inp = inp.unsqueeze(0)\n",
    "print(inp)\n",
    "inp = inp + inp\n",
    "inp\n",
    "\n"
   ]
  },
  {
   "cell_type": "code",
   "execution_count": 62,
   "outputs": [
    {
     "name": "stdout",
     "output_type": "stream",
     "text": [
      "b: tensor([[[2]],\n",
      "\n",
      "        [[2]],\n",
      "\n",
      "        [[1]],\n",
      "\n",
      "        [[2]]])\n",
      "c: tensor([[[0, 1, 2, 3]]])\n",
      "mask: tensor([[[False, False, False,  True]],\n",
      "\n",
      "        [[False, False, False,  True]],\n",
      "\n",
      "        [[False, False, False, False]],\n",
      "\n",
      "        [[False, False, False,  True]]])\n"
     ]
    },
    {
     "data": {
      "text/plain": "torch.Size([4, 1, 4])"
     },
     "execution_count": 62,
     "metadata": {},
     "output_type": "execute_result"
    }
   ],
   "source": [],
   "metadata": {
    "collapsed": false
   }
  },
  {
   "cell_type": "code",
   "execution_count": 63,
   "outputs": [
    {
     "name": "stdout",
     "output_type": "stream",
     "text": [
      "tensor([[False, False, False,  True],\n",
      "        [False, False, False,  True],\n",
      "        [False, False, False, False],\n",
      "        [False, False, False,  True]])\n"
     ]
    },
    {
     "data": {
      "text/plain": "torch.Size([4, 4])"
     },
     "execution_count": 63,
     "metadata": {},
     "output_type": "execute_result"
    }
   ],
   "source": [],
   "metadata": {
    "collapsed": false
   }
  },
  {
   "cell_type": "code",
   "execution_count": 74,
   "outputs": [
    {
     "data": {
      "text/plain": "torch.Size([1, 1, 32240])"
     },
     "execution_count": 74,
     "metadata": {},
     "output_type": "execute_result"
    }
   ],
   "source": [],
   "metadata": {
    "collapsed": false
   }
  },
  {
   "cell_type": "code",
   "execution_count": 58,
   "outputs": [],
   "source": [],
   "metadata": {
    "collapsed": false
   }
  }
 ],
 "metadata": {
  "kernelspec": {
   "display_name": "Python 3",
   "language": "python",
   "name": "python3"
  },
  "language_info": {
   "codemirror_mode": {
    "name": "ipython",
    "version": 2
   },
   "file_extension": ".py",
   "mimetype": "text/x-python",
   "name": "python",
   "nbconvert_exporter": "python",
   "pygments_lexer": "ipython2",
   "version": "2.7.6"
  }
 },
 "nbformat": 4,
 "nbformat_minor": 0
}
